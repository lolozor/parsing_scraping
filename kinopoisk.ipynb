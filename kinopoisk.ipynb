{
 "cells": [
  {
   "cell_type": "code",
   "execution_count": 1,
   "metadata": {},
   "outputs": [],
   "source": [
    "from pprint import pprint\n",
    "from bs4 import BeautifulSoup as bs\n",
    "import requests"
   ]
  },
  {
   "cell_type": "code",
   "execution_count": 6,
   "metadata": {},
   "outputs": [
    {
     "name": "stdout",
     "output_type": "stream",
     "text": [
      "[{'genre': 'ужасы,фантастика,триллер...',\n",
      "  'link': 'https://www.kinopoisk.ru/film/420454/',\n",
      "  'name': 'Человек-невидимка',\n",
      "  'rating': 7.159},\n",
      " {'genre': 'боевик,комедия,криминал',\n",
      "  'link': 'https://www.kinopoisk.ru/film/1143242/',\n",
      "  'name': 'Джентльмены',\n",
      "  'rating': 8.699},\n",
      " {'genre': 'мелодрама,драма,спорт',\n",
      "  'link': 'https://www.kinopoisk.ru/film/1227963/',\n",
      "  'name': 'Лёд\\xa02',\n",
      "  'rating': 7.062},\n",
      " {'genre': 'фэнтези,комедия,приключения...',\n",
      "  'link': 'https://www.kinopoisk.ru/film/1042726/',\n",
      "  'name': 'Удивительное путешествие доктора Дулиттла',\n",
      "  'rating': 6.146},\n",
      " {'genre': 'ужасы',\n",
      "  'link': 'https://www.kinopoisk.ru/film/1124682/',\n",
      "  'name': 'Яга. Кошмар тёмного леса',\n",
      "  'rating': 5.2},\n",
      " {'genre': 'боевик,комедия',\n",
      "  'link': 'https://www.kinopoisk.ru/film/1142604/',\n",
      "  'name': 'Пушки Акимбо',\n",
      "  'rating': 6.468},\n",
      " {'genre': 'триллер',\n",
      "  'link': 'https://www.kinopoisk.ru/film/1021046/',\n",
      "  'name': 'Переводчики',\n",
      "  'rating': 7.06},\n",
      " {'genre': 'фантастика,фэнтези,боевик...',\n",
      "  'link': 'https://www.kinopoisk.ru/film/1016160/',\n",
      "  'name': 'Соник в кино',\n",
      "  'rating': 6.542},\n",
      " {'genre': 'драма',\n",
      "  'link': 'https://www.kinopoisk.ru/film/1108556/',\n",
      "  'name': 'Просто помиловать',\n",
      "  'rating': 7.412},\n",
      " {'genre': 'биография,история',\n",
      "  'link': 'https://www.kinopoisk.ru/film/1188248/',\n",
      "  'name': 'Калашников',\n",
      "  'rating': 7.005},\n",
      " {'genre': 'драма,приключения,семейный',\n",
      "  'link': 'https://www.kinopoisk.ru/film/1060511/',\n",
      "  'name': 'Зов предков',\n",
      "  'rating': 7.281}]\n"
     ]
    }
   ],
   "source": [
    "main_link = 'https://www.kinopoisk.ru'\n",
    "response = requests.get(main_link + '/afisha/new/city/1/').text\n",
    "html = bs(response,'lxml')\n",
    "\n",
    "films_block = html.find('div',{'class':'filmsListNew'})\n",
    "films_list = films_block.findChildren(recursive=False)\n",
    "\n",
    "films=[]\n",
    "\n",
    "for film in films_list:\n",
    "    film_data = {}\n",
    "    main_info = film.find('div',{'class':'name'}).findChild()\n",
    "    film_name = main_info.getText()\n",
    "    film_link = main_link + main_info['href']\n",
    "    genre = film.findAll('div',{'class':'gray'})[1].getText().replace(' ','')[9:]\n",
    "    rating = film.find('span',{'class':['rating_ball_green','rating_ball_grey','rating_ball_red']})\n",
    "    if not rating:\n",
    "        rating = 0\n",
    "    else:\n",
    "        rating = float(rating.getText())\n",
    "\n",
    "    film_data['name'] = film_name\n",
    "    film_data['genre'] = genre\n",
    "    film_data['link'] = film_link\n",
    "    film_data['rating'] = rating\n",
    "    films.append(film_data)\n",
    "\n",
    "pprint(films)"
   ]
  },
  {
   "cell_type": "code",
   "execution_count": null,
   "metadata": {},
   "outputs": [],
   "source": []
  }
 ],
 "metadata": {
  "kernelspec": {
   "display_name": "Python 3",
   "language": "python",
   "name": "python3"
  },
  "language_info": {
   "codemirror_mode": {
    "name": "ipython",
    "version": 3
   },
   "file_extension": ".py",
   "mimetype": "text/x-python",
   "name": "python",
   "nbconvert_exporter": "python",
   "pygments_lexer": "ipython3",
   "version": "3.7.4"
  }
 },
 "nbformat": 4,
 "nbformat_minor": 2
}
