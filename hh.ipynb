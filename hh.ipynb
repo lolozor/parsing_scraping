{
 "cells": [
  {
   "cell_type": "code",
   "execution_count": 1,
   "metadata": {},
   "outputs": [],
   "source": [
    "from pprint import pprint\n",
    "import json\n",
    "from bs4 import BeautifulSoup as bs\n",
    "import requests\n",
    "import re\n",
    "import pandas as pd"
   ]
  },
  {
   "cell_type": "code",
   "execution_count": 2,
   "metadata": {},
   "outputs": [],
   "source": [
    "def apd_salary(i):\n",
    "    \n",
    "    mi, ma = '', ''\n",
    "    result = ['','','']\n",
    "    \n",
    "    i = i.replace(u'\\xa0', u'')\n",
    "    i = i.replace(u'.', u'')\n",
    "    \n",
    "    if re.search('от ', i):\n",
    "        min = re.findall('\\d+', i)\n",
    "        mi = min[0]\n",
    "        \n",
    "    if re.search('до ', i):\n",
    "        max = re.findall('\\d+', i)\n",
    "        ma = max[0]\n",
    " \n",
    "    if re.search('\\d+-\\d+', i):\n",
    "        min = re.findall('\\d+', i)\n",
    "        max = re.findall('-\\d+', i)\n",
    "        max[0] = max[0].replace(u'-', u'')\n",
    "        mi = min[0]\n",
    "        ma = max[0]\n",
    "        \n",
    "    result[0] = mi\n",
    "    result[1] = ma\n",
    "    result[2] = i[-3:]\n",
    "    \n",
    "    return(result) "
   ]
  },
  {
   "cell_type": "code",
   "execution_count": 3,
   "metadata": {},
   "outputs": [
    {
     "name": "stdout",
     "output_type": "stream",
     "text": [
      "2  %\n"
     ]
    },
    {
     "ename": "AttributeError",
     "evalue": "'NoneType' object has no attribute 'findChildren'",
     "output_type": "error",
     "traceback": [
      "\u001b[1;31m---------------------------------------------------------------------------\u001b[0m",
      "\u001b[1;31mAttributeError\u001b[0m                            Traceback (most recent call last)",
      "\u001b[1;32m<ipython-input-3-e0b36c6f5fea>\u001b[0m in \u001b[0;36m<module>\u001b[1;34m\u001b[0m\n\u001b[0;32m     52\u001b[0m     \u001b[0mres_block\u001b[0m \u001b[1;33m=\u001b[0m \u001b[0mhtml\u001b[0m\u001b[1;33m.\u001b[0m\u001b[0mfind\u001b[0m\u001b[1;33m(\u001b[0m\u001b[1;34m'a'\u001b[0m\u001b[1;33m,\u001b[0m\u001b[1;33m{\u001b[0m\u001b[1;34m'class'\u001b[0m\u001b[1;33m:\u001b[0m\u001b[1;34m'bloko-button HH-Pager-Controls-Next HH-Pager-Control'\u001b[0m\u001b[1;33m}\u001b[0m\u001b[1;33m)\u001b[0m\u001b[1;33m\u001b[0m\u001b[1;33m\u001b[0m\u001b[0m\n\u001b[0;32m     53\u001b[0m     \u001b[0mprint\u001b[0m\u001b[1;33m(\u001b[0m\u001b[0mint\u001b[0m\u001b[1;33m(\u001b[0m\u001b[1;36m100\u001b[0m\u001b[1;33m*\u001b[0m\u001b[0mi\u001b[0m\u001b[1;33m/\u001b[0m\u001b[1;33m(\u001b[0m\u001b[0mscr\u001b[0m\u001b[1;33m+\u001b[0m\u001b[1;36m1\u001b[0m\u001b[1;33m)\u001b[0m\u001b[1;33m)\u001b[0m\u001b[1;33m,\u001b[0m \u001b[1;34m' %'\u001b[0m\u001b[1;33m)\u001b[0m\u001b[1;33m\u001b[0m\u001b[1;33m\u001b[0m\u001b[0m\n\u001b[1;32m---> 54\u001b[1;33m     \u001b[0mresults\u001b[0m \u001b[1;33m+=\u001b[0m \u001b[0mparsing\u001b[0m\u001b[1;33m(\u001b[0m\u001b[0mhtml\u001b[0m\u001b[1;33m,\u001b[0m \u001b[0mmain_link\u001b[0m\u001b[1;33m)\u001b[0m\u001b[1;33m\u001b[0m\u001b[1;33m\u001b[0m\u001b[0m\n\u001b[0m\u001b[0;32m     55\u001b[0m     \u001b[0mlink1\u001b[0m \u001b[1;33m=\u001b[0m \u001b[0mlink\u001b[0m \u001b[1;33m+\u001b[0m \u001b[1;34m'&page='\u001b[0m \u001b[1;33m+\u001b[0m \u001b[0mstr\u001b[0m\u001b[1;33m(\u001b[0m\u001b[0mi\u001b[0m\u001b[1;33m)\u001b[0m\u001b[1;33m\u001b[0m\u001b[1;33m\u001b[0m\u001b[0m\n\u001b[0;32m     56\u001b[0m     \u001b[0mi\u001b[0m \u001b[1;33m+=\u001b[0m \u001b[1;36m1\u001b[0m\u001b[1;33m\u001b[0m\u001b[1;33m\u001b[0m\u001b[0m\n",
      "\u001b[1;32m<ipython-input-3-e0b36c6f5fea>\u001b[0m in \u001b[0;36mparsing\u001b[1;34m(html, site)\u001b[0m\n\u001b[0;32m      1\u001b[0m \u001b[1;32mdef\u001b[0m \u001b[0mparsing\u001b[0m\u001b[1;33m(\u001b[0m\u001b[0mhtml\u001b[0m\u001b[1;33m,\u001b[0m \u001b[0msite\u001b[0m\u001b[1;33m)\u001b[0m\u001b[1;33m:\u001b[0m\u001b[1;33m\u001b[0m\u001b[1;33m\u001b[0m\u001b[0m\n\u001b[0;32m      2\u001b[0m     \u001b[0mres_block\u001b[0m \u001b[1;33m=\u001b[0m \u001b[0mhtml\u001b[0m\u001b[1;33m.\u001b[0m\u001b[0mfind\u001b[0m\u001b[1;33m(\u001b[0m\u001b[1;34m'div'\u001b[0m\u001b[1;33m,\u001b[0m\u001b[1;33m{\u001b[0m\u001b[1;34m'class'\u001b[0m\u001b[1;33m:\u001b[0m\u001b[1;34m'vacancy-serp vacancy-serp_xs-mode'\u001b[0m\u001b[1;33m}\u001b[0m\u001b[1;33m)\u001b[0m\u001b[1;33m\u001b[0m\u001b[1;33m\u001b[0m\u001b[0m\n\u001b[1;32m----> 3\u001b[1;33m     \u001b[0mres_list\u001b[0m \u001b[1;33m=\u001b[0m \u001b[0mres_block\u001b[0m\u001b[1;33m.\u001b[0m\u001b[0mfindChildren\u001b[0m\u001b[1;33m(\u001b[0m\u001b[0mrecursive\u001b[0m\u001b[1;33m=\u001b[0m\u001b[1;32mFalse\u001b[0m\u001b[1;33m)\u001b[0m\u001b[1;33m\u001b[0m\u001b[1;33m\u001b[0m\u001b[0m\n\u001b[0m\u001b[0;32m      4\u001b[0m \u001b[1;33m\u001b[0m\u001b[0m\n\u001b[0;32m      5\u001b[0m     \u001b[0mresults\u001b[0m\u001b[1;33m=\u001b[0m\u001b[1;33m[\u001b[0m\u001b[1;33m]\u001b[0m\u001b[1;33m\u001b[0m\u001b[1;33m\u001b[0m\u001b[0m\n",
      "\u001b[1;31mAttributeError\u001b[0m: 'NoneType' object has no attribute 'findChildren'"
     ]
    }
   ],
   "source": [
    "def parsing(html, site):\n",
    "    res_block = html.find('div',{'class':'vacancy-serp vacancy-serp_xs-mode'})\n",
    "    res_list = res_block.findChildren(recursive=False)\n",
    "\n",
    "    results=[]\n",
    "    for vak in res_list:\n",
    "        data = {}\n",
    "        vak_salary = ['','','']\n",
    "        try:    \n",
    "            vak_name = vak.find('a',{'class':'bloko-link HH-LinkModifier'}).text#.findChild()\n",
    "            vak_link = vak.find('a',{'class':'bloko-link HH-LinkModifier'})['href']\n",
    "        except:\n",
    "            continue           \n",
    "    \n",
    "        try:\n",
    "            vak_s = vak.find('div',{'class':'vacancy-serp-item__compensation'}).getText()\n",
    "            vak_salary = apd_salary(vak_s)\n",
    "        except:\n",
    "            pass\n",
    "\n",
    "        data['name'] = vak_name\n",
    "        data['salary_min'] = vak_salary[0]\n",
    "        data['salary_max'] = vak_salary[1]\n",
    "        data['salary_valuta'] = vak_salary[2]\n",
    "        data['link'] = vak_link\n",
    "        data['site'] = site\n",
    "\n",
    "        results.append(data)    \n",
    "        \n",
    "    return(results)\n",
    "\n",
    "main_link = 'https://hh.ru'\n",
    "#user_input = input()\n",
    "link = main_link + '/search/vacancy?L_save_area=true&clusters=true&enable_snippets=true&search_field=name&text=курьер&showClusters=false'#+user_input\n",
    "headers = {'User-Agent':'Mozilla/5.0 (Windows NT 10.0; Win64; x64) AppleWebKit/537.36 (KHTML, like Gecko) Chrome/78.0.3904.108 Safari/537.36'}\n",
    "# &page=8\n",
    "response = requests.get(link, headers=headers).text\n",
    "html = bs(response,'lxml')\n",
    "\n",
    "#pprint(response)\n",
    "#html\n",
    "\n",
    "res_block = html.find('a',{'class':'bloko-button HH-Pager-Controls-Next HH-Pager-Control'})\n",
    "\n",
    "# СЧИТАЕМ СКРОЛЛИНГ\n",
    "scr = html.findAll('a',{'class':'bloko-button HH-Pager-Control'})\n",
    "scr = int(scr[-1].text)\n",
    "\n",
    "i = 1\n",
    "results=[]\n",
    "while res_block:\n",
    "    res_block = html.find('a',{'class':'bloko-button HH-Pager-Controls-Next HH-Pager-Control'})\n",
    "    print(int(100*i/(scr+1)), ' %')\n",
    "    results += parsing(html, main_link)\n",
    "    link1 = link + '&page=' + str(i)\n",
    "    i += 1\n",
    "    response = requests.get(link1, headers=headers).text\n",
    "    html = bs(response,'lxml')\n",
    "\n",
    "# pprint(results)\n",
    "\n",
    "with open('data.json', 'w') as outfile:\n",
    "    json.dump(results, outfile)\n",
    "\n",
    "print('DONE!')"
   ]
  },
  {
   "cell_type": "code",
   "execution_count": 4,
   "metadata": {},
   "outputs": [
    {
     "ename": "FileNotFoundError",
     "evalue": "[Errno 2] No such file or directory: 'data.json'",
     "output_type": "error",
     "traceback": [
      "\u001b[1;31m---------------------------------------------------------------------------\u001b[0m",
      "\u001b[1;31mFileNotFoundError\u001b[0m                         Traceback (most recent call last)",
      "\u001b[1;32m<ipython-input-4-788e15a657cc>\u001b[0m in \u001b[0;36m<module>\u001b[1;34m\u001b[0m\n\u001b[1;32m----> 1\u001b[1;33m \u001b[1;32mwith\u001b[0m \u001b[0mopen\u001b[0m\u001b[1;33m(\u001b[0m\u001b[1;34m'data.json'\u001b[0m\u001b[1;33m)\u001b[0m \u001b[1;32mas\u001b[0m \u001b[0mfh\u001b[0m\u001b[1;33m:\u001b[0m\u001b[1;33m\u001b[0m\u001b[1;33m\u001b[0m\u001b[0m\n\u001b[0m\u001b[0;32m      2\u001b[0m     \u001b[0mdata\u001b[0m \u001b[1;33m=\u001b[0m \u001b[0mjson\u001b[0m\u001b[1;33m.\u001b[0m\u001b[0mload\u001b[0m\u001b[1;33m(\u001b[0m\u001b[0mfh\u001b[0m\u001b[1;33m)\u001b[0m\u001b[1;33m\u001b[0m\u001b[1;33m\u001b[0m\u001b[0m\n\u001b[0;32m      3\u001b[0m \u001b[0mlen\u001b[0m\u001b[1;33m(\u001b[0m\u001b[0mdata\u001b[0m\u001b[1;33m)\u001b[0m\u001b[1;33m\u001b[0m\u001b[1;33m\u001b[0m\u001b[0m\n\u001b[0;32m      4\u001b[0m \u001b[1;31m#data\u001b[0m\u001b[1;33m\u001b[0m\u001b[1;33m\u001b[0m\u001b[1;33m\u001b[0m\u001b[0m\n",
      "\u001b[1;31mFileNotFoundError\u001b[0m: [Errno 2] No such file or directory: 'data.json'"
     ]
    }
   ],
   "source": [
    "with open('data.json') as fh: \n",
    "    data = json.load(fh)\n",
    "len(data)\n",
    "#data"
   ]
  },
  {
   "cell_type": "code",
   "execution_count": 5,
   "metadata": {},
   "outputs": [
    {
     "ename": "NameError",
     "evalue": "name 'data' is not defined",
     "output_type": "error",
     "traceback": [
      "\u001b[1;31m---------------------------------------------------------------------------\u001b[0m",
      "\u001b[1;31mNameError\u001b[0m                                 Traceback (most recent call last)",
      "\u001b[1;32m<ipython-input-5-656818230f71>\u001b[0m in \u001b[0;36m<module>\u001b[1;34m\u001b[0m\n\u001b[1;32m----> 1\u001b[1;33m \u001b[0mdf1\u001b[0m \u001b[1;33m=\u001b[0m \u001b[0mpd\u001b[0m\u001b[1;33m.\u001b[0m\u001b[0mDataFrame\u001b[0m\u001b[1;33m(\u001b[0m\u001b[0mdata\u001b[0m\u001b[1;33m)\u001b[0m\u001b[1;33m\u001b[0m\u001b[1;33m\u001b[0m\u001b[0m\n\u001b[0m\u001b[0;32m      2\u001b[0m \u001b[0mdf1\u001b[0m\u001b[1;33m.\u001b[0m\u001b[0mhead\u001b[0m\u001b[1;33m(\u001b[0m\u001b[1;36m25\u001b[0m\u001b[1;33m)\u001b[0m\u001b[1;33m\u001b[0m\u001b[1;33m\u001b[0m\u001b[0m\n",
      "\u001b[1;31mNameError\u001b[0m: name 'data' is not defined"
     ]
    }
   ],
   "source": [
    "df1 = pd.DataFrame(data)\n",
    "df1.head(25)"
   ]
  },
  {
   "cell_type": "code",
   "execution_count": null,
   "metadata": {},
   "outputs": [],
   "source": []
  }
 ],
 "metadata": {
  "kernelspec": {
   "display_name": "Python 3",
   "language": "python",
   "name": "python3"
  },
  "language_info": {
   "codemirror_mode": {
    "name": "ipython",
    "version": 3
   },
   "file_extension": ".py",
   "mimetype": "text/x-python",
   "name": "python",
   "nbconvert_exporter": "python",
   "pygments_lexer": "ipython3",
   "version": "3.7.4"
  }
 },
 "nbformat": 4,
 "nbformat_minor": 2
}
